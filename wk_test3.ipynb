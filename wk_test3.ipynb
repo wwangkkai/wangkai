{
 "cells": [
  {
   "cell_type": "markdown",
   "metadata": {},
   "source": [
    "# 选择\n",
    "## 布尔类型、数值和表达式\n",
    "![](../Photo/33.png)\n",
    "- 注意：比较运算符的相等是两个等到，一个等到代表赋值\n",
    "- 在Python中可以用整型0来代表False，其他数字来代表True\n",
    "- 后面还会讲到 is 在判断语句中的用发"
   ]
  },
  {
   "cell_type": "code",
   "execution_count": 2,
   "metadata": {},
   "outputs": [
    {
     "data": {
      "text/plain": [
       "True"
      ]
     },
     "execution_count": 2,
     "metadata": {},
     "output_type": "execute_result"
    }
   ],
   "source": [
    "1 == True"
   ]
  },
  {
   "cell_type": "code",
   "execution_count": 4,
   "metadata": {},
   "outputs": [
    {
     "data": {
      "text/plain": [
       "True"
      ]
     },
     "execution_count": 4,
     "metadata": {},
     "output_type": "execute_result"
    }
   ],
   "source": [
    "0 < 10 < 100"
   ]
  },
  {
   "cell_type": "markdown",
   "metadata": {},
   "source": [
    "## 字符串的比较使用ASCII值"
   ]
  },
  {
   "cell_type": "markdown",
   "metadata": {},
   "source": [
    "## Markdown \n",
    "- https://github.com/younghz/Markdown"
   ]
  },
  {
   "cell_type": "markdown",
   "metadata": {},
   "source": [
    "## EP:\n",
    "- <img src=\"../Photo/34.png\"></img>\n",
    "- 输入一个数字，判断其实奇数还是偶数"
   ]
  },
  {
   "cell_type": "markdown",
   "metadata": {},
   "source": [
    "## 产生随机数字\n",
    "- 函数random.randint(a,b) 可以用来产生一个a和b之间且包括a和b的随机整数"
   ]
  },
  {
   "cell_type": "code",
   "execution_count": 8,
   "metadata": {},
   "outputs": [
    {
     "name": "stdout",
     "output_type": "stream",
     "text": [
      "12\n"
     ]
    }
   ],
   "source": [
    "import random\n",
    "print (random.randint(10,20))"
   ]
  },
  {
   "cell_type": "code",
   "execution_count": 2,
   "metadata": {},
   "outputs": [
    {
     "name": "stdout",
     "output_type": "stream",
     "text": [
      "输入一个数：2\n",
      "小了\n",
      "再次输入3\n",
      "输入一个数：3\n",
      "猜对了\n"
     ]
    }
   ],
   "source": [
    "import random\n",
    "n =  (random.randint(1,3))\n",
    "\n",
    "while True :\n",
    "    s =  int(input('输入一个数：'))\n",
    "    if n ==  s:\n",
    "        print ('猜对了')\n",
    "        break\n",
    "    elif n > s:\n",
    "        print ('小了')\n",
    "        s = int(input('再次输入'))\n",
    "    elif n < s:\n",
    "        print ('大了')\n",
    "        s = int(input('再次输入'))"
   ]
  },
  {
   "cell_type": "markdown",
   "metadata": {},
   "source": [
    "##  其他random方法\n",
    "- random.random 返回0.0到1.0之间前闭后开区间的随机浮点\n",
    "- random.randrange(a,b) 前闭后开"
   ]
  },
  {
   "cell_type": "markdown",
   "metadata": {},
   "source": [
    "## EP：\n",
    "- 产生两个随机整数number1和number2，然后显示给用户，使用户输入数字的和，并判定其是否正确\n",
    "- 进阶:写一个随机序号点名程序"
   ]
  },
  {
   "cell_type": "code",
   "execution_count": 11,
   "metadata": {},
   "outputs": [
    {
     "name": "stdout",
     "output_type": "stream",
     "text": [
      "4 9\n",
      "输入数字之和：10\n",
      "回答错误\n"
     ]
    }
   ],
   "source": [
    "import random\n",
    "number1 = random.randint(1,5)\n",
    "number2 = random.randint(6,10)\n",
    "sum1 = number1 + number2\n",
    "print (number1, number2)\n",
    "n = int(input('输入数字之和：'))\n",
    "while True:\n",
    "    if  n == sum1:\n",
    "        print ('回答正确')\n",
    "        break\n",
    "    elif n != sum1:\n",
    "        print ('回答错误')\n",
    "        break"
   ]
  },
  {
   "cell_type": "code",
   "execution_count": 1,
   "metadata": {},
   "outputs": [
    {
     "name": "stdout",
     "output_type": "stream",
     "text": [
      "输入一个年龄：31\n",
      "老了\n"
     ]
    }
   ],
   "source": [
    "#一层一层的添加条件语句\n",
    "age = int(input('输入一个年龄：'))\n",
    "if age <= 30:\n",
    "    print('符合，继续下一条')\n",
    "    face = str(input('帅或不帅'))\n",
    "    if face == ('帅'):\n",
    "        print('符合，继续下一条')\n",
    "        money = str(input('收入高，中等，低'))\n",
    "        if money == ('高'):\n",
    "            print('见面')\n",
    "        elif money == ('中等'):\n",
    "            print('你是公务员，可以一见')\n",
    "            \n",
    "\n",
    "        else:\n",
    "            print('收入太低')\n",
    "    else:\n",
    "        print('再见')   \n",
    "else:\n",
    "    print('老了')"
   ]
  },
  {
   "cell_type": "markdown",
   "metadata": {},
   "source": [
    "## if语句\n",
    "- 如果条件正确就执行一个单向if语句，亦即当条件为真的时候才执行if内部的语句\n",
    "- Python有很多选择语句:\n",
    "> - 单向if \n",
    "  - 双向if-else\n",
    "  - 嵌套if\n",
    "  - 多向if-elif-else\n",
    "  \n",
    "- 注意：当语句含有子语句的时候，那么一定至少要有一个缩进，也就是说如果有儿子存在，那么一定要缩进\n",
    "- 切记不可tab键和space混用，单用tab 或者 space\n",
    "- 当你输出的结果是无论if是否为真时都需要显示时，语句应该与if对齐"
   ]
  },
  {
   "cell_type": "markdown",
   "metadata": {},
   "source": [
    "## EP：\n",
    "- 用户输入一个数字，判断其实奇数还是偶数\n",
    "- 进阶：可以查看下4.5实例研究猜生日"
   ]
  },
  {
   "cell_type": "code",
   "execution_count": null,
   "metadata": {},
   "outputs": [],
   "source": []
  },
  {
   "cell_type": "markdown",
   "metadata": {},
   "source": [
    "## 双向if-else 语句\n",
    "- 如果条件为真，那么走if内部语句，否则走else内部语句"
   ]
  },
  {
   "cell_type": "markdown",
   "metadata": {},
   "source": [
    "## EP：\n",
    "- 产生两个随机整数number1和number2，然后显示给用户，使用户输入数字，并判定其是否正确,如果正确打印“you‘re correct”，否则打印正确错误"
   ]
  },
  {
   "cell_type": "markdown",
   "metadata": {},
   "source": [
    "## 嵌套if 和多向if-elif-else\n",
    "![](../Photo/35.png)"
   ]
  },
  {
   "cell_type": "markdown",
   "metadata": {},
   "source": [
    "## EP：\n",
    "- 提示用户输入一个年份，然后显示表示这一年的动物\n",
    "![](../Photo/36.png)\n",
    "- 计算身体质量指数的程序\n",
    "- BMI = 以千克为单位的体重除以以米为单位的身高\n",
    "![](../Photo/37.png)"
   ]
  },
  {
   "cell_type": "code",
   "execution_count": 1,
   "metadata": {},
   "outputs": [
    {
     "data": {
      "text/plain": [
       "0.38095238095238093"
      ]
     },
     "execution_count": 1,
     "metadata": {},
     "output_type": "execute_result"
    }
   ],
   "source": [
    "72/189"
   ]
  },
  {
   "cell_type": "code",
   "execution_count": 10,
   "metadata": {},
   "outputs": [
    {
     "ename": "ModuleNotFoundError",
     "evalue": "No module named 'raw_input'",
     "output_type": "error",
     "traceback": [
      "\u001b[1;31m---------------------------------------------------------------------------\u001b[0m",
      "\u001b[1;31mModuleNotFoundError\u001b[0m                       Traceback (most recent call last)",
      "\u001b[1;32m<ipython-input-10-2b98f6ac5f71>\u001b[0m in \u001b[0;36m<module>\u001b[1;34m()\u001b[0m\n\u001b[1;32m----> 1\u001b[1;33m \u001b[1;32mimport\u001b[0m \u001b[0mraw_input\u001b[0m\u001b[1;33m\u001b[0m\u001b[0m\n\u001b[0m\u001b[0;32m      2\u001b[0m \u001b[0mweight\u001b[0m\u001b[1;33m=\u001b[0m\u001b[0mint\u001b[0m\u001b[1;33m(\u001b[0m\u001b[0mraw_input\u001b[0m\u001b[1;33m(\u001b[0m\u001b[1;34m'请输入体重（千克）：'\u001b[0m\u001b[1;33m)\u001b[0m\u001b[1;33m)\u001b[0m\u001b[1;33m\u001b[0m\u001b[0m\n\u001b[0;32m      3\u001b[0m \u001b[0mheight\u001b[0m\u001b[1;33m=\u001b[0m\u001b[0mint\u001b[0m\u001b[1;33m(\u001b[0m\u001b[0mraw_input\u001b[0m\u001b[1;33m(\u001b[0m\u001b[1;34m'请输入身高（米）：'\u001b[0m\u001b[1;33m)\u001b[0m\u001b[1;33m)\u001b[0m\u001b[1;33m\u001b[0m\u001b[0m\n\u001b[0;32m      4\u001b[0m \u001b[0mBMI\u001b[0m\u001b[1;33m=\u001b[0m\u001b[0mweight\u001b[0m\u001b[1;33m/\u001b[0m\u001b[1;33m(\u001b[0m\u001b[0mheight\u001b[0m\u001b[1;33m*\u001b[0m\u001b[0mheight\u001b[0m\u001b[1;33m)\u001b[0m\u001b[1;33m\u001b[0m\u001b[0m\n\u001b[0;32m      5\u001b[0m \u001b[0mprint\u001b[0m \u001b[1;33m(\u001b[0m\u001b[0mBMI\u001b[0m\u001b[1;33m=\u001b[0m\u001b[0mBMI\u001b[0m\u001b[1;33m)\u001b[0m\u001b[1;33m\u001b[0m\u001b[0m\n",
      "\u001b[1;31mModuleNotFoundError\u001b[0m: No module named 'raw_input'"
     ]
    }
   ],
   "source": [
    "import raw_input\n",
    "weight=int(raw_input('请输入体重（千克）：'))\n",
    "height=int(raw_input('请输入身高（米）：'))\n",
    "BMI=weight/(height*height)\n",
    "print (BMI=BMI)\n",
    "if BMI<19:\n",
    "    print ('轻体重')\n",
    "elif BMI>=19 and BMI<25:\n",
    "    print('健康身体')\n",
    "elif BMI>=25 and BMI<28:\n",
    "    print('超重')\n",
    "else:\n",
    "    print('肥胖')\n",
    "raw_input('press any key to quit.')"
   ]
  },
  {
   "cell_type": "markdown",
   "metadata": {},
   "source": [
    "## 逻辑运算符\n",
    "![](../Photo/38.png)"
   ]
  },
  {
   "cell_type": "markdown",
   "metadata": {},
   "source": [
    "![](../Photo/39.png)\n",
    "![](../Photo/40.png)"
   ]
  },
  {
   "cell_type": "markdown",
   "metadata": {},
   "source": [
    "## EP：\n",
    "- 判定闰年：一个年份如果能被4整除但不能被100整除，或者能被400整除，那么这个年份就是闰年\n",
    "- 提示用户输入一个年份，并返回是否是闰年\n",
    "- 提示用户输入一个数字，判断其是否为水仙花数"
   ]
  },
  {
   "cell_type": "code",
   "execution_count": 20,
   "metadata": {},
   "outputs": [
    {
     "name": "stdout",
     "output_type": "stream",
     "text": [
      "年份：2000\n",
      "不是\n"
     ]
    }
   ],
   "source": [
    "year = int(input('年份：'))\n",
    "if (year % 4 == 0 or year % 400 == 0) and (year % 100 != 0):\n",
    "    print ('是闰年')\n",
    "else :\n",
    "    print ('不是')"
   ]
  },
  {
   "cell_type": "code",
   "execution_count": null,
   "metadata": {},
   "outputs": [],
   "source": [
    "n, number = int(input('输入一个数的位数和数：'))\n"
   ]
  },
  {
   "cell_type": "code",
   "execution_count": 1,
   "metadata": {},
   "outputs": [],
   "source": [
    "import os\n",
    "'''\n",
    "水仙花数问题：\n",
    "是指一个n位数N（n>=3），它的每个位上的数字的n次幂之和等于这个数N\n",
    "例如153:    1**3+5**3+3**3=153\n",
    "'''\n",
    "def  isFlower(x):\n",
    "    listName=[]\n",
    "    temp=x\n",
    "    while temp>0:\n",
    "        # 求最后一位数，并添加到列表中\n",
    "        listName.append(temp%10)\n",
    "        # 去掉最后一位，因为已添加到列表中\n",
    "        temp //= 10#地板除法，2.2以后新加的，直接把最后一位数干掉\n",
    "    # 求出列表的长度，就是几位数\n",
    "    k=len(listName)\n",
    "    # 最后使用列表解析式，判断是否相等\n",
    "    return sum([n ** k  for n in listName]) == x"
   ]
  },
  {
   "cell_type": "markdown",
   "metadata": {},
   "source": [
    "## 实例研究：彩票\n",
    "![](../Photo/41.png)"
   ]
  },
  {
   "cell_type": "code",
   "execution_count": 17,
   "metadata": {},
   "outputs": [
    {
     "name": "stdout",
     "output_type": "stream",
     "text": [
      "7 2\n",
      "输入彩票号码：02\n",
      "恭喜你，中奖了，将金1000美元\n"
     ]
    }
   ],
   "source": [
    "import random\n",
    "number1 = random.randint(0,9)\n",
    "number2 = random.randint(0,9)\n",
    "print(number1,number2)\n",
    "n = int(input('输入彩票号码：'))\n",
    "if number1 * 10 + number2 == n:\n",
    "    print('恭喜你，中奖了，奖金10000美元')\n",
    "elif number1 + number2 * 10 == n:\n",
    "    print('恭喜你，中奖了，将金3000美元')\n",
    "elif (number1 == (n/10)%10 or number2 != (n % 10)) or (number1 != (n/10)%10 or number2 == (n % 10)):\n",
    "    print('恭喜你，中奖了，将金1000美元')\n",
    "else:\n",
    "    print('很遗憾，猜错了，将被爆掉狗头')"
   ]
  },
  {
   "cell_type": "markdown",
   "metadata": {},
   "source": [
    "# Homework\n",
    "- 1\n",
    "![](../Photo/42.png)"
   ]
  },
  {
   "cell_type": "code",
   "execution_count": 23,
   "metadata": {},
   "outputs": [
    {
     "name": "stdout",
     "output_type": "stream",
     "text": [
      "输入a,b,c的值：1,3,1\n",
      "两个根为：-0.3819660112501051-2.618033988749895\n"
     ]
    }
   ],
   "source": [
    "a,b,c=eval(input('输入a,b,c的值：'))\n",
    "n = b **2 - 4 * a * c\n",
    "r1 = ( -b + n**(1/2)) / (2*a)\n",
    "r2 = ( -b - n**(1/2)) / (2*a)\n",
    "if  n > 0:\n",
    "    print ('两个根为：' + str(r1) + str(r2))\n",
    "elif n == 0:\n",
    "    print ('只有一个根为：' + str(r1))\n",
    "else:\n",
    "    print ('没有实根' )"
   ]
  },
  {
   "cell_type": "markdown",
   "metadata": {},
   "source": [
    "- 2\n",
    "![](../Photo/43.png)"
   ]
  },
  {
   "cell_type": "code",
   "execution_count": 25,
   "metadata": {},
   "outputs": [
    {
     "name": "stdout",
     "output_type": "stream",
     "text": [
      "98 29\n",
      "输入两个整数的和：10\n",
      "回答错误！\n"
     ]
    }
   ],
   "source": [
    "import random\n",
    "n1 = random.randint(0,99)\n",
    "n2 = random.randint(0,99)\n",
    "sum1 = n1 + n2\n",
    "print(n1,n2)\n",
    "number1 = int(input('输入两个整数的和：'))\n",
    "if number1 == sum1:\n",
    "    print('回答正确！')\n",
    "else:\n",
    "    print('回答错误！')"
   ]
  },
  {
   "cell_type": "markdown",
   "metadata": {},
   "source": [
    "- 3\n",
    "![](../Photo/44.png)"
   ]
  },
  {
   "cell_type": "code",
   "execution_count": 29,
   "metadata": {},
   "outputs": [
    {
     "name": "stdout",
     "output_type": "stream",
     "text": [
      "今天是星期：1\n",
      "你要知道多少天后是星期几：7\n",
      "今天是星期：1, 未来7后是星期：1\n"
     ]
    }
   ],
   "source": [
    "today = int(input('今天是星期：'))\n",
    "days = int(input('你要知道多少天后是星期几：'))\n",
    "future = (today + days) % 7\n",
    "print('今天是星期：' + str(today) + ', 未来' + str(days) +'后是星期：' + str(future))"
   ]
  },
  {
   "cell_type": "markdown",
   "metadata": {},
   "source": [
    "- 4\n",
    "![](../Photo/45.png)"
   ]
  },
  {
   "cell_type": "code",
   "execution_count": 36,
   "metadata": {},
   "outputs": [
    {
     "name": "stdout",
     "output_type": "stream",
     "text": [
      "输入三个整数：56,89,78\n",
      "56 78 89\n"
     ]
    }
   ],
   "source": [
    "a, b, c = eval(input('输入三个整数：'))\n",
    "if a > b > c:\n",
    "    a,b,c = a,b,c\n",
    "elif a > c > b:\n",
    "    a,b,c = a,c,b\n",
    "elif b > a > c:\n",
    "    a,b,c = b,a,c\n",
    "elif b > c > a:\n",
    "    a,b,c = b,c,a\n",
    "elif c > a > b:\n",
    "    a,b,c = c,a,b\n",
    "else:\n",
    "    a,b,c = c,b,a\n",
    "print (c,b,a)"
   ]
  },
  {
   "cell_type": "markdown",
   "metadata": {},
   "source": [
    "- 5\n",
    "![](../Photo/46.png)"
   ]
  },
  {
   "cell_type": "code",
   "execution_count": 41,
   "metadata": {},
   "outputs": [
    {
     "name": "stdout",
     "output_type": "stream",
     "text": [
      "输入第一中包装的重量和价格：50,24.59\n",
      "输入第二中包装的重量和价格：25,11.99\n",
      "第二种更便宜\n"
     ]
    }
   ],
   "source": [
    "w1, p1 = eval(input('输入第一中包装的重量和价格：'))\n",
    "w2, p2 = eval(input('输入第二中包装的重量和价格：'))\n",
    "if (p1 / w1) < (p2 / w2):\n",
    "    print('第一种更便宜')\n",
    "else:\n",
    "    print('第二种更便宜')"
   ]
  },
  {
   "cell_type": "markdown",
   "metadata": {},
   "source": [
    "- 6\n",
    "![](../Photo/47.png)"
   ]
  },
  {
   "cell_type": "code",
   "execution_count": 43,
   "metadata": {},
   "outputs": [
    {
     "name": "stdout",
     "output_type": "stream",
     "text": [
      "输入年份：2000\n",
      "输入月份：2\n",
      "本月为29天\n"
     ]
    }
   ],
   "source": [
    "year = int(input('输入年份：'))\n",
    "month = int(input('输入月份：'))\n",
    "j1 = year % 4\n",
    "j2 = year % 100\n",
    "j3 = year % 400\n",
    "if (j1 == 0 and j2 != 0) or(j3 == 0):\n",
    "    if (month != 2):\n",
    "        if (month == 1 or month == 3 or month == 5 or month == 7) or ( month== 8 or month == 10 or month == 12):\n",
    "            print('本月为31天')\n",
    "        else:\n",
    "            print('本月为30天')\n",
    "    else:\n",
    "        print('本月为29天')\n",
    "else:\n",
    "    if (month != 2):\n",
    "        if (month == 1 or month == 3 or month == 5 or month == 7) or ( month== 8 or month == 10 or month == 12):\n",
    "            print('本月为31天')\n",
    "        else:\n",
    "            print('本月为30天')\n",
    "    else:\n",
    "        print('本月为28天')"
   ]
  },
  {
   "cell_type": "markdown",
   "metadata": {},
   "source": [
    "- 7\n",
    "![](../Photo/48.png)"
   ]
  },
  {
   "cell_type": "code",
   "execution_count": 51,
   "metadata": {},
   "outputs": [
    {
     "name": "stdout",
     "output_type": "stream",
     "text": [
      "2\n",
      "输入正面或反面：正面\n",
      "回答失败\n"
     ]
    }
   ],
   "source": [
    "import random\n",
    "n = random.randint(1,2)\n",
    "print(n)\n",
    "s = str(input('输入正面或反面：'))\n",
    "if n == 1:\n",
    "    if s == '正面':\n",
    "        print('回答正确')\n",
    "    else:\n",
    "        print('回答失败')\n",
    "else:\n",
    "    if s == '正面':\n",
    "        print('回答失败')\n",
    "    else:\n",
    "        print('回答正确')"
   ]
  },
  {
   "cell_type": "markdown",
   "metadata": {},
   "source": [
    "- 8\n",
    "![](../Photo/49.png)"
   ]
  },
  {
   "cell_type": "code",
   "execution_count": 53,
   "metadata": {},
   "outputs": [
    {
     "name": "stdout",
     "output_type": "stream",
     "text": [
      "1\n",
      "石头，剪刀，布石头\n",
      "赢了\n"
     ]
    }
   ],
   "source": [
    "import random\n",
    "n = random.randint(0,2)#0，1，2分别为石头，剪刀，布\n",
    "print(n)\n",
    "s = str(input('石头，剪刀，布'))\n",
    "if (n == 0) and (s != '石头' ):\n",
    "    if  (s == '剪刀' ):\n",
    "        print('输了')\n",
    "    else :\n",
    "        print('赢了')\n",
    "elif (n == 1) and (s != '剪刀'):\n",
    "    if s == '石头':\n",
    "        print('赢了')\n",
    "    else:\n",
    "        print('输了')\n",
    "elif (n == 2) and (s != '布'):\n",
    "    if s == '石头':\n",
    "        print('输了')\n",
    "    else:\n",
    "        print('赢了')\n",
    "else:\n",
    "    print('平局')"
   ]
  },
  {
   "cell_type": "markdown",
   "metadata": {},
   "source": [
    "- 9\n",
    "![](../Photo/50.png)"
   ]
  },
  {
   "cell_type": "markdown",
   "metadata": {},
   "source": [
    "- 10\n",
    "![](../Photo/51.png)"
   ]
  },
  {
   "cell_type": "markdown",
   "metadata": {},
   "source": [
    "- 11\n",
    "![](../Photo/52.png)"
   ]
  },
  {
   "cell_type": "markdown",
   "metadata": {},
   "source": [
    "- 12\n",
    "![](../Photo/53.png)"
   ]
  }
 ],
 "metadata": {
  "kernelspec": {
   "display_name": "Python 3",
   "language": "python",
   "name": "python3"
  },
  "language_info": {
   "codemirror_mode": {
    "name": "ipython",
    "version": 3
   },
   "file_extension": ".py",
   "mimetype": "text/x-python",
   "name": "python",
   "nbconvert_exporter": "python",
   "pygments_lexer": "ipython3",
   "version": "3.6.4"
  }
 },
 "nbformat": 4,
 "nbformat_minor": 2
}

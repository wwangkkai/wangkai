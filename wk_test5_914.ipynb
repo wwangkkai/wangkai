{
 "cells": [
  {
   "cell_type": "markdown",
   "metadata": {},
   "source": [
    "# 函数\n",
    "\n",
    "- 函数可以用来定义可重复代码，组织和简化\n",
    "- 一般来说一个函数在实际开发中为一个小功能\n",
    "- 一个类为一个大功能\n",
    "- 同样函数的长度不要超过一屏"
   ]
  },
  {
   "cell_type": "code",
   "execution_count": 5,
   "metadata": {},
   "outputs": [],
   "source": [
    "def fun_name():\n",
    "    print('天才')"
   ]
  },
  {
   "cell_type": "code",
   "execution_count": 6,
   "metadata": {},
   "outputs": [
    {
     "name": "stdout",
     "output_type": "stream",
     "text": [
      "天才\n"
     ]
    }
   ],
   "source": [
    "fun_name() #（）表示函数调用"
   ]
  },
  {
   "cell_type": "markdown",
   "metadata": {},
   "source": [
    "## 定义一个函数\n",
    "\n",
    "def function_name(list of parameters):\n",
    "    \n",
    "    do something\n",
    "![](../Photo/69.png)\n",
    "- 以前使用的random 或者range 或者print.. 其实都是函数或者类"
   ]
  },
  {
   "cell_type": "markdown",
   "metadata": {},
   "source": [
    "## 调用一个函数\n",
    "- functionName()\n",
    "- \"()\" 就代表调用"
   ]
  },
  {
   "cell_type": "code",
   "execution_count": 12,
   "metadata": {},
   "outputs": [],
   "source": [
    "def panduanjiou():       #这个必须先运行一下哦，然后就可以调用了哦\n",
    "    num1 = eval(input('>>'))\n",
    "    if num1 % 2 == 0:\n",
    "        print ('偶数')\n",
    "    else :\n",
    "        print ('奇数')"
   ]
  },
  {
   "cell_type": "code",
   "execution_count": 13,
   "metadata": {},
   "outputs": [
    {
     "name": "stdout",
     "output_type": "stream",
     "text": [
      ">>10\n",
      "偶数\n"
     ]
    }
   ],
   "source": [
    "panduanjiou()"
   ]
  },
  {
   "cell_type": "code",
   "execution_count": 23,
   "metadata": {},
   "outputs": [],
   "source": [
    "def panduansushu():\n",
    "    count = 0\n",
    "    num2 = int(input('>>'))\n",
    "    for s in range(2,num2):\n",
    "        if num2 % s == 0:\n",
    "            count += 1\n",
    "        if count == 1:\n",
    "            print ('是素数')\n",
    "        else :\n",
    "            print ('不是')\n",
    "        "
   ]
  },
  {
   "cell_type": "code",
   "execution_count": 24,
   "metadata": {},
   "outputs": [
    {
     "name": "stdout",
     "output_type": "stream",
     "text": [
      ">>5\n",
      "不是\n",
      "不是\n",
      "不是\n"
     ]
    }
   ],
   "source": [
    "panduansushu()"
   ]
  },
  {
   "cell_type": "markdown",
   "metadata": {},
   "source": [
    "![](../Photo/70.png)"
   ]
  },
  {
   "cell_type": "markdown",
   "metadata": {},
   "source": [
    "## 带返回值和不带返回值的函数\n",
    "- return 返回的内容\n",
    "- return 返回多个值\n",
    "- 一般情况下，在多个函数协同完成一个功能的时候，那么将会有返回值"
   ]
  },
  {
   "cell_type": "markdown",
   "metadata": {},
   "source": [
    "![](../Photo/71.png)\n",
    "\n",
    "- 当然也可以自定义返回None"
   ]
  },
  {
   "cell_type": "markdown",
   "metadata": {},
   "source": [
    "## EP：\n",
    "![](../Photo/72.png)"
   ]
  },
  {
   "cell_type": "markdown",
   "metadata": {},
   "source": [
    "## 类型和关键字参数\n",
    "- 普通参数\n",
    "- 多个参数\n",
    "- 默认值参数\n",
    "- 不定长参数"
   ]
  },
  {
   "cell_type": "code",
   "execution_count": 33,
   "metadata": {},
   "outputs": [],
   "source": [
    "import os\n",
    "def kuajiang(name):\n",
    "    os.system('say {}你真是一个天才'.format(name))"
   ]
  },
  {
   "cell_type": "code",
   "execution_count": 34,
   "metadata": {},
   "outputs": [],
   "source": [
    "kuajiang('嘎')      #名字是可以随意添加的"
   ]
  },
  {
   "cell_type": "code",
   "execution_count": 35,
   "metadata": {},
   "outputs": [],
   "source": [
    "kuajiang(name = '阿达')   #带参数名的传递方式"
   ]
  },
  {
   "cell_type": "code",
   "execution_count": 3,
   "metadata": {},
   "outputs": [],
   "source": [
    "def input_():\n",
    "    num = eval(input('>>'))\n",
    "    res3 = san(num)\n",
    "    res2 = er(num)\n",
    "    print (res3 - res2)\n",
    "def san(num):                   #定义可以放在任意位置\n",
    "    return num ** 3\n",
    "def er(num):\n",
    "    return num ** 2"
   ]
  },
  {
   "cell_type": "code",
   "execution_count": 4,
   "metadata": {},
   "outputs": [
    {
     "name": "stdout",
     "output_type": "stream",
     "text": [
      ">>2\n",
      "4\n"
     ]
    }
   ],
   "source": [
    "input_()"
   ]
  },
  {
   "cell_type": "code",
   "execution_count": 31,
   "metadata": {},
   "outputs": [],
   "source": [
    "x =2"
   ]
  },
  {
   "cell_type": "markdown",
   "metadata": {},
   "source": [
    "## 普通参数"
   ]
  },
  {
   "cell_type": "markdown",
   "metadata": {},
   "source": [
    "## 多个参数"
   ]
  },
  {
   "cell_type": "code",
   "execution_count": null,
   "metadata": {},
   "outputs": [],
   "source": []
  },
  {
   "cell_type": "markdown",
   "metadata": {},
   "source": [
    "## 默认值参数"
   ]
  },
  {
   "cell_type": "code",
   "execution_count": 1,
   "metadata": {},
   "outputs": [],
   "source": [
    "import os\n",
    "#如果参数含有默认值，一定要放到最后面！！！！！！！！！\n",
    "def kuajiang(name1,name2,name3):\n",
    "    print('say {}{}{}你们都是小帅哥'.format(name1,name2,name3))"
   ]
  },
  {
   "cell_type": "code",
   "execution_count": 2,
   "metadata": {},
   "outputs": [
    {
     "name": "stdout",
     "output_type": "stream",
     "text": [
      "say zfh你们都是小帅哥\n"
     ]
    }
   ],
   "source": [
    "kuajiang(name1='z',name2='f',name3='h')"
   ]
  },
  {
   "cell_type": "code",
   "execution_count": null,
   "metadata": {},
   "outputs": [],
   "source": [
    "#def login(is_ok_and_login = False):\n",
    "#    acount == str(input('账号或密码不正确，请再次输入账号：'))\n",
    "#    password == int(input('请再次输入密码：'))"
   ]
  },
  {
   "cell_type": "code",
   "execution_count": 1,
   "metadata": {},
   "outputs": [],
   "source": [
    "acount = '112233@qq.com'     #str(input('输入账号：'))\n",
    "password =  'haha123'     #int(input('输入密码：'))\n",
    "is_ok_and_qitian = False"
   ]
  },
  {
   "cell_type": "code",
   "execution_count": 2,
   "metadata": {},
   "outputs": [],
   "source": [
    "def login(account_login,password_login):\n",
    "    if account_login == acount and password_login == password:\n",
    "        print('登陆成功')\n",
    "    else:\n",
    "        print('账号或密码错误')"
   ]
  },
  {
   "cell_type": "code",
   "execution_count": 3,
   "metadata": {},
   "outputs": [],
   "source": [
    "def qitian():\n",
    "    global is_ok_and_qitian \n",
    "#如果你想要为一个定义在函数外的变量赋值，那么你就得告诉Python这个变量名不是局部的，而是 全局 的。\n",
    "#我们使用global语句完成这一功能。没有global语句，是不可能为定义在函数外的变量赋值的。\n",
    "#你可以使用定义在函数外的变量的值（假设在函数内没有同名的变量）。然而，我并不鼓励你这样做，\n",
    "#并且你应该尽量避免这样做，因为这使得程序的读者会不清楚这个变量是在哪里定义的。使用global语句可以清楚地表明变量是在外面的块定义的。\n",
    "    if is_ok_and_qitian == False:\n",
    "        print('是否七天免登陆？y/n')\n",
    "        res = input('>>')\n",
    "        account_login = input('输入账号：')\n",
    "        password_login = input('输入密码：')\n",
    "        if res == 'y':\n",
    "            login(account_login,password_login)\n",
    "            is_ok_and_qitian = True\n",
    "        else:\n",
    "            login(account_login,password_login)\n",
    "    else:\n",
    "        print('登陆成功！')\n",
    "        \n",
    "    "
   ]
  },
  {
   "cell_type": "code",
   "execution_count": 8,
   "metadata": {},
   "outputs": [
    {
     "name": "stdout",
     "output_type": "stream",
     "text": [
      "登陆成功！\n"
     ]
    }
   ],
   "source": [
    "qitian()"
   ]
  },
  {
   "cell_type": "markdown",
   "metadata": {},
   "source": [
    "## 强制命名"
   ]
  },
  {
   "cell_type": "code",
   "execution_count": null,
   "metadata": {},
   "outputs": [],
   "source": [
    "#定义时，前面会加一个*，再后面输入是必须添加定义参数"
   ]
  },
  {
   "cell_type": "markdown",
   "metadata": {},
   "source": [
    "## 不定长参数\n",
    "- \\*args\n",
    "> - 不定长，来多少装多少，不装也是可以的\n",
    "  - 返回的数据类型是元组\n",
    "  - args 名字是可以修改的，只是我们约定俗成的是args\n",
    "- \\**kwargs \n",
    "> - 返回的字典\n",
    "  - 输入的一定要是表达式（键值对）\n",
    "- name,\\*args,name2,\\**kwargs  使用参数名"
   ]
  },
  {
   "cell_type": "code",
   "execution_count": 20,
   "metadata": {},
   "outputs": [],
   "source": [
    "#   *args是下水道，来多少装多少\n",
    "#   **kwargs是加强版的下水道\n",
    "def test1(*args):\n",
    "    print(args)"
   ]
  },
  {
   "cell_type": "code",
   "execution_count": 21,
   "metadata": {},
   "outputs": [
    {
     "name": "stdout",
     "output_type": "stream",
     "text": [
      "(1, 2, 3, 4, 5, 6, 7, 8, 9)\n"
     ]
    }
   ],
   "source": [
    "test1(1,2,3,4,5,6,7,8,9) # 元组 （可迭代）"
   ]
  },
  {
   "cell_type": "code",
   "execution_count": 22,
   "metadata": {},
   "outputs": [],
   "source": [
    "def test2(**kwages):  #函数的传参\n",
    "    print(kwages)"
   ]
  },
  {
   "cell_type": "code",
   "execution_count": 23,
   "metadata": {},
   "outputs": [
    {
     "name": "stdout",
     "output_type": "stream",
     "text": [
      "{'a': 1, 'b': 2, 'c': 3}\n"
     ]
    }
   ],
   "source": [
    "test2(a=1,b=2,c=3)  #这个输出的是“字典” 有键名和键值，‘’里面是键名"
   ]
  },
  {
   "cell_type": "code",
   "execution_count": 24,
   "metadata": {},
   "outputs": [],
   "source": [
    "def test3(*args,**kwargs):\n",
    "    print(args)\n",
    "    print(kwargs)"
   ]
  },
  {
   "cell_type": "code",
   "execution_count": 25,
   "metadata": {},
   "outputs": [
    {
     "name": "stdout",
     "output_type": "stream",
     "text": [
      "(1, 2, 3)\n",
      "{'a': 4, 'b': 5, 'c': 6}\n"
     ]
    }
   ],
   "source": [
    "test3(1,2,3,a=4,b=5,c=6)   #都是  可传可不传的"
   ]
  },
  {
   "cell_type": "markdown",
   "metadata": {},
   "source": [
    "## 变量的作用域\n",
    "- 局部变量 local\n",
    "- 全局变量 global\n",
    "- globals 函数返回一个全局变量的字典，包括所有导入的变量\n",
    "- locals() 函数会以字典类型返回当前位置的全部局部变量。"
   ]
  },
  {
   "cell_type": "code",
   "execution_count": 29,
   "metadata": {},
   "outputs": [
    {
     "name": "stdout",
     "output_type": "stream",
     "text": [
      "100 200 True\n"
     ]
    }
   ],
   "source": [
    "a =100\n",
    "b =200\n",
    "c =True\n",
    "d =[]\n",
    "def test4():\n",
    "    a = 1000\n",
    "    b = 2000\n",
    "    c = False\n",
    "    d.append(999)\n",
    "    print(a,b,c)\n",
    "print(a,b,c)"
   ]
  },
  {
   "cell_type": "code",
   "execution_count": 30,
   "metadata": {},
   "outputs": [
    {
     "name": "stdout",
     "output_type": "stream",
     "text": [
      "1000 2000 False\n",
      "100 200 True [999]\n"
     ]
    }
   ],
   "source": [
    "test4()\n",
    "print(a,b,c,d)"
   ]
  },
  {
   "cell_type": "code",
   "execution_count": 31,
   "metadata": {},
   "outputs": [
    {
     "data": {
      "text/plain": [
       "{'In': ['',\n",
       "  \"acount = '112233@qq.com'     #str(input('输入账号：'))\\npassword =  'haha123'     #int(input('输入密码：'))\\nis_ok_and_qitian = False\",\n",
       "  \"def login(account_login,password_login):\\n    if account_login == acount and password_login == password:\\n        print('登陆成功')\\n    else:\\n        print('账号或密码错误')\",\n",
       "  \"def qitian():\\n    global is_ok_and_qitian\\n    if is_ok_and_qitian == False:\\n        print('是否七天免登陆？y/n')\\n        res = input('>>')\\n        account_login = input('输入账号：')\\n        password_login = input('输入密码：')\\n        if res == 'y':\\n            login(account_login,password_login)\\n            is_ok_and_qitian = True\\n        else:\\n            login(account_login,password_login)\\n    else:\\n        print('登陆成功！')\\n        \\n    \",\n",
       "  'qitian()',\n",
       "  'qitian()',\n",
       "  'qitian()',\n",
       "  'qitian()',\n",
       "  'qitian()',\n",
       "  '#*args是下水道，**kwargs是加强版的下水道\\ndef test(*args):\\n    print(args)',\n",
       "  'test(1,2,3,4,5,6,7,8,9)',\n",
       "  'test(a=1,b=2.c=3)',\n",
       "  '#   *args是下水道，来多少装多少\\n#   **kwargs是加强版的下水道\\ndef test(*args):\\n    print(args)',\n",
       "  'test(1,2,3,4,5,6,7,8,9) # 元组 （可迭代）',\n",
       "  'test(a=1,b=2.c=3)',\n",
       "  'test(a=1,b=2,c=3)',\n",
       "  'def test2(**kwages):\\n    print(kwages)',\n",
       "  'test2(a=1,b=2,c=3)',\n",
       "  'def test3(*args,**kwargs):\\n    print(args)\\n    print(kwargs)',\n",
       "  'test3(1,2,3,a=4,b=5,c=6)',\n",
       "  '#   *args是下水道，来多少装多少\\n#   **kwargs是加强版的下水道\\ndef test1(*args):\\n    print(args)',\n",
       "  'test1(1,2,3,4,5,6,7,8,9) # 元组 （可迭代）',\n",
       "  'def test2(**kwages):  #函数的传参\\n    print(kwages)',\n",
       "  'test2(a=1,b=2,c=3)  #这个输出的是“字典” 有键名和键值，‘’里面是键名',\n",
       "  'def test3(*args,**kwargs):\\n    print(args)\\n    print(kwargs)',\n",
       "  'test3(1,2,3,a=4,b=5,c=6)   #都是  可传可不传的',\n",
       "  'a =100\\nb =200\\nc =True\\ndef test4():\\n    a = 1000\\n    b = 2000\\n    c = False\\n    print(a,b,c)\\nprint(a,b,c)',\n",
       "  'test4()',\n",
       "  'test4()\\nprint(a,b,c,d)',\n",
       "  'a =100\\nb =200\\nc =True\\nd =[]\\ndef test4():\\n    a = 1000\\n    b = 2000\\n    c = False\\n    d.append(999)\\n    print(a,b,c)\\nprint(a,b,c)',\n",
       "  'test4()\\nprint(a,b,c,d)',\n",
       "  'locals()'],\n",
       " 'Out': {},\n",
       " '_': '',\n",
       " '__': '',\n",
       " '___': '',\n",
       " '__builtin__': <module 'builtins' (built-in)>,\n",
       " '__builtins__': <module 'builtins' (built-in)>,\n",
       " '__doc__': 'Automatically created module for IPython interactive environment',\n",
       " '__loader__': None,\n",
       " '__name__': '__main__',\n",
       " '__package__': None,\n",
       " '__spec__': None,\n",
       " '_dh': ['C:\\\\Users\\\\王锴\\\\Desktop\\\\python\\\\code'],\n",
       " '_i': 'test4()\\nprint(a,b,c,d)',\n",
       " '_i1': \"acount = '112233@qq.com'     #str(input('输入账号：'))\\npassword =  'haha123'     #int(input('输入密码：'))\\nis_ok_and_qitian = False\",\n",
       " '_i10': 'test(1,2,3,4,5,6,7,8,9)',\n",
       " '_i11': 'test(a=1,b=2.c=3)',\n",
       " '_i12': '#   *args是下水道，来多少装多少\\n#   **kwargs是加强版的下水道\\ndef test(*args):\\n    print(args)',\n",
       " '_i13': 'test(1,2,3,4,5,6,7,8,9) # 元组 （可迭代）',\n",
       " '_i14': 'test(a=1,b=2.c=3)',\n",
       " '_i15': 'test(a=1,b=2,c=3)',\n",
       " '_i16': 'def test2(**kwages):\\n    print(kwages)',\n",
       " '_i17': 'test2(a=1,b=2,c=3)',\n",
       " '_i18': 'def test3(*args,**kwargs):\\n    print(args)\\n    print(kwargs)',\n",
       " '_i19': 'test3(1,2,3,a=4,b=5,c=6)',\n",
       " '_i2': \"def login(account_login,password_login):\\n    if account_login == acount and password_login == password:\\n        print('登陆成功')\\n    else:\\n        print('账号或密码错误')\",\n",
       " '_i20': '#   *args是下水道，来多少装多少\\n#   **kwargs是加强版的下水道\\ndef test1(*args):\\n    print(args)',\n",
       " '_i21': 'test1(1,2,3,4,5,6,7,8,9) # 元组 （可迭代）',\n",
       " '_i22': 'def test2(**kwages):  #函数的传参\\n    print(kwages)',\n",
       " '_i23': 'test2(a=1,b=2,c=3)  #这个输出的是“字典” 有键名和键值，‘’里面是键名',\n",
       " '_i24': 'def test3(*args,**kwargs):\\n    print(args)\\n    print(kwargs)',\n",
       " '_i25': 'test3(1,2,3,a=4,b=5,c=6)   #都是  可传可不传的',\n",
       " '_i26': 'a =100\\nb =200\\nc =True\\ndef test4():\\n    a = 1000\\n    b = 2000\\n    c = False\\n    print(a,b,c)\\nprint(a,b,c)',\n",
       " '_i27': 'test4()',\n",
       " '_i28': 'test4()\\nprint(a,b,c,d)',\n",
       " '_i29': 'a =100\\nb =200\\nc =True\\nd =[]\\ndef test4():\\n    a = 1000\\n    b = 2000\\n    c = False\\n    d.append(999)\\n    print(a,b,c)\\nprint(a,b,c)',\n",
       " '_i3': \"def qitian():\\n    global is_ok_and_qitian\\n    if is_ok_and_qitian == False:\\n        print('是否七天免登陆？y/n')\\n        res = input('>>')\\n        account_login = input('输入账号：')\\n        password_login = input('输入密码：')\\n        if res == 'y':\\n            login(account_login,password_login)\\n            is_ok_and_qitian = True\\n        else:\\n            login(account_login,password_login)\\n    else:\\n        print('登陆成功！')\\n        \\n    \",\n",
       " '_i30': 'test4()\\nprint(a,b,c,d)',\n",
       " '_i31': 'locals()',\n",
       " '_i4': 'qitian()',\n",
       " '_i5': 'qitian()',\n",
       " '_i6': 'qitian()',\n",
       " '_i7': 'qitian()',\n",
       " '_i8': 'qitian()',\n",
       " '_i9': '#*args是下水道，**kwargs是加强版的下水道\\ndef test(*args):\\n    print(args)',\n",
       " '_ih': ['',\n",
       "  \"acount = '112233@qq.com'     #str(input('输入账号：'))\\npassword =  'haha123'     #int(input('输入密码：'))\\nis_ok_and_qitian = False\",\n",
       "  \"def login(account_login,password_login):\\n    if account_login == acount and password_login == password:\\n        print('登陆成功')\\n    else:\\n        print('账号或密码错误')\",\n",
       "  \"def qitian():\\n    global is_ok_and_qitian\\n    if is_ok_and_qitian == False:\\n        print('是否七天免登陆？y/n')\\n        res = input('>>')\\n        account_login = input('输入账号：')\\n        password_login = input('输入密码：')\\n        if res == 'y':\\n            login(account_login,password_login)\\n            is_ok_and_qitian = True\\n        else:\\n            login(account_login,password_login)\\n    else:\\n        print('登陆成功！')\\n        \\n    \",\n",
       "  'qitian()',\n",
       "  'qitian()',\n",
       "  'qitian()',\n",
       "  'qitian()',\n",
       "  'qitian()',\n",
       "  '#*args是下水道，**kwargs是加强版的下水道\\ndef test(*args):\\n    print(args)',\n",
       "  'test(1,2,3,4,5,6,7,8,9)',\n",
       "  'test(a=1,b=2.c=3)',\n",
       "  '#   *args是下水道，来多少装多少\\n#   **kwargs是加强版的下水道\\ndef test(*args):\\n    print(args)',\n",
       "  'test(1,2,3,4,5,6,7,8,9) # 元组 （可迭代）',\n",
       "  'test(a=1,b=2.c=3)',\n",
       "  'test(a=1,b=2,c=3)',\n",
       "  'def test2(**kwages):\\n    print(kwages)',\n",
       "  'test2(a=1,b=2,c=3)',\n",
       "  'def test3(*args,**kwargs):\\n    print(args)\\n    print(kwargs)',\n",
       "  'test3(1,2,3,a=4,b=5,c=6)',\n",
       "  '#   *args是下水道，来多少装多少\\n#   **kwargs是加强版的下水道\\ndef test1(*args):\\n    print(args)',\n",
       "  'test1(1,2,3,4,5,6,7,8,9) # 元组 （可迭代）',\n",
       "  'def test2(**kwages):  #函数的传参\\n    print(kwages)',\n",
       "  'test2(a=1,b=2,c=3)  #这个输出的是“字典” 有键名和键值，‘’里面是键名',\n",
       "  'def test3(*args,**kwargs):\\n    print(args)\\n    print(kwargs)',\n",
       "  'test3(1,2,3,a=4,b=5,c=6)   #都是  可传可不传的',\n",
       "  'a =100\\nb =200\\nc =True\\ndef test4():\\n    a = 1000\\n    b = 2000\\n    c = False\\n    print(a,b,c)\\nprint(a,b,c)',\n",
       "  'test4()',\n",
       "  'test4()\\nprint(a,b,c,d)',\n",
       "  'a =100\\nb =200\\nc =True\\nd =[]\\ndef test4():\\n    a = 1000\\n    b = 2000\\n    c = False\\n    d.append(999)\\n    print(a,b,c)\\nprint(a,b,c)',\n",
       "  'test4()\\nprint(a,b,c,d)',\n",
       "  'locals()'],\n",
       " '_ii': 'a =100\\nb =200\\nc =True\\nd =[]\\ndef test4():\\n    a = 1000\\n    b = 2000\\n    c = False\\n    d.append(999)\\n    print(a,b,c)\\nprint(a,b,c)',\n",
       " '_iii': 'test4()\\nprint(a,b,c,d)',\n",
       " '_oh': {},\n",
       " 'a': 100,\n",
       " 'acount': '112233@qq.com',\n",
       " 'b': 200,\n",
       " 'c': True,\n",
       " 'd': [999],\n",
       " 'exit': <IPython.core.autocall.ZMQExitAutocall at 0x1d42bd873c8>,\n",
       " 'get_ipython': <bound method InteractiveShell.get_ipython of <ipykernel.zmqshell.ZMQInteractiveShell object at 0x000001D42BD61048>>,\n",
       " 'is_ok_and_qitian': True,\n",
       " 'login': <function __main__.login>,\n",
       " 'password': 'haha123',\n",
       " 'qitian': <function __main__.qitian>,\n",
       " 'quit': <IPython.core.autocall.ZMQExitAutocall at 0x1d42bd873c8>,\n",
       " 'test': <function __main__.test>,\n",
       " 'test1': <function __main__.test1>,\n",
       " 'test2': <function __main__.test2>,\n",
       " 'test3': <function __main__.test3>,\n",
       " 'test4': <function __main__.test4>}"
      ]
     },
     "execution_count": 31,
     "metadata": {},
     "output_type": "execute_result"
    }
   ],
   "source": [
    "locals()"
   ]
  },
  {
   "cell_type": "markdown",
   "metadata": {},
   "source": [
    "## 注意：\n",
    "- global ：在进行赋值操作的时候需要声明\n",
    "- 官方解释：This is because when you make an assignment to a variable in a scope, that variable becomes local to that scope and shadows any similarly named variable in the outer scope.\n",
    "- ![](../Photo/73.png)"
   ]
  },
  {
   "cell_type": "markdown",
   "metadata": {},
   "source": [
    "# Homework\n",
    "- 1\n",
    "![](../Photo/74.png)"
   ]
  },
  {
   "cell_type": "code",
   "execution_count": 48,
   "metadata": {},
   "outputs": [],
   "source": [
    "def homework1():\n",
    "    n = 1\n",
    "    count = 0\n",
    "    a = int(input('>>'))\n",
    "    for s in range(1,a):\n",
    "        if n < a:\n",
    "            c = n * (3 * n - 1) / 2\n",
    "            n += 1\n",
    "            print(int(c),end=' ')\n",
    "            count += 1  \n",
    "            if(count%10==0):\n",
    "                print(end='\\n')"
   ]
  },
  {
   "cell_type": "code",
   "execution_count": 47,
   "metadata": {},
   "outputs": [
    {
     "name": "stdout",
     "output_type": "stream",
     "text": [
      ">>100\n",
      "1 5 12 22 35 51 70 92 117 145 \n",
      "176 210 247 287 330 376 425 477 532 590 \n",
      "651 715 782 852 925 1001 1080 1162 1247 1335 \n",
      "1426 1520 1617 1717 1820 1926 2035 2147 2262 2380 \n",
      "2501 2625 2752 2882 3015 3151 3290 3432 3577 3725 \n",
      "3876 4030 4187 4347 4510 4676 4845 5017 5192 5370 \n",
      "5551 5735 5922 6112 6305 6501 6700 6902 7107 7315 \n",
      "7526 7740 7957 8177 8400 8626 8855 9087 9322 9560 \n",
      "9801 10045 10292 10542 10795 11051 11310 11572 11837 12105 \n",
      "12376 12650 12927 13207 13490 13776 14065 14357 14652 "
     ]
    }
   ],
   "source": [
    "homework1()"
   ]
  },
  {
   "cell_type": "markdown",
   "metadata": {},
   "source": [
    "- 2 \n",
    "![](../Photo/75.png)"
   ]
  },
  {
   "cell_type": "code",
   "execution_count": 49,
   "metadata": {},
   "outputs": [
    {
     "name": "stdout",
     "output_type": "stream",
     "text": [
      "您要键入的数字:2222222\n",
      "7\n"
     ]
    }
   ],
   "source": [
    "a = int(input(\"您要键入的数字:\"))\n",
    "#变成字符串了str~~~\n",
    "b = len(str(a))   #len是用来获取字符串长度\n",
    "print(b)"
   ]
  },
  {
   "cell_type": "code",
   "execution_count": 54,
   "metadata": {},
   "outputs": [],
   "source": [
    "#  三为数的太简单，无视并跳过！！！！    下面为 n 位数的计算方法函数~~~~~~~~~~~~~\n",
    "def homework2():\n",
    "    # 输入任意数字并赋值给input_num\n",
    "    input_num = input('请输入数字：')\n",
    "    # 声明一个变量用于存放相加计算后的数字，初始值设定为0\n",
    "    sum_num = 0\n",
    "    # 判断输入的内容是否为数字\n",
    "    #if input_num.isdigit():\n",
    "        # 循环input_num字符长度次，其中range()为python中生成数字序列的函数，len()为python获取字符串长度的函数\n",
    "        # 此循环的意思等于JavaScript中的for(i = 0; i < input_num.length; i++){}\n",
    "    for i in range(len(input_num)):\n",
    "            # python中截取字符串中某一位的字符，方法为str[0:2](即：截取出名称为str的字符串的第0位到第2位之间的字符)\n",
    "            # 此处的意思是，截取输入的字符中第i个到第i+1个字符之间的字符，并赋值给cut_num\n",
    "        cut_num = input_num[i:i + 1]\n",
    "            # 重新给变量sum_num赋值为sum_num+截取到的数字的和\n",
    "        sum_num = sum_num + int(cut_num)\n",
    "        # 打印（即：在控制台输出）输入的数字中各个数位数字相加的总和\n",
    "    print('输入了' + str(len(input_num)) + '个数字\\n数字的综合为：' + str(sum_num))\n",
    "    #else:\n",
    "    #    print('你输入的不是数字，我不能计算，再见')"
   ]
  },
  {
   "cell_type": "code",
   "execution_count": 55,
   "metadata": {},
   "outputs": [
    {
     "name": "stdout",
     "output_type": "stream",
     "text": [
      "请输入数字：156465468\n",
      "输入了9个数字\n",
      "数字的综合为：45\n"
     ]
    }
   ],
   "source": [
    "homework2()"
   ]
  },
  {
   "cell_type": "markdown",
   "metadata": {},
   "source": [
    "- 3\n",
    "![](../Photo/76.png)"
   ]
  },
  {
   "cell_type": "code",
   "execution_count": 66,
   "metadata": {},
   "outputs": [],
   "source": [
    "def homework3():\n",
    "    a,b,c = eval(input('输入三个数：'))\n",
    "    if a>b>c :\n",
    "        a,b,c=a,b,c\n",
    "    elif a>c>b :\n",
    "        a,b,c=a,c,b\n",
    "    elif b>a>c :\n",
    "        a,b,c=b,a,c\n",
    "    elif b>c>a :\n",
    "        a,b,c=b,c,a\n",
    "    elif c>a>b :\n",
    "        a,b,c=c,a,b\n",
    "    elif c>b>a :\n",
    "        a,b,c=c,b,a\n",
    "    print('升序排列后为：' + str(c),str(b),str(a))"
   ]
  },
  {
   "cell_type": "code",
   "execution_count": 67,
   "metadata": {},
   "outputs": [
    {
     "name": "stdout",
     "output_type": "stream",
     "text": [
      "输入三个数：3,2,1\n",
      "升序排列后为：1 2 3\n"
     ]
    }
   ],
   "source": [
    "homework3()"
   ]
  },
  {
   "cell_type": "markdown",
   "metadata": {},
   "source": [
    "- 4\n",
    "![](../Photo/77.png)"
   ]
  },
  {
   "cell_type": "code",
   "execution_count": 88,
   "metadata": {},
   "outputs": [],
   "source": [
    "def homework4():\n",
    "    money = int(input('输入投资额：'))\n",
    "    lilv = eval(input('输入百分比格式的年利率：'))\n",
    "    lixi = 0\n",
    "    print('Years      Future Value')\n",
    "    for i in range(1,31):\n",
    "        lixi = lixi + money*lilv / 100\n",
    "        money = money + lixi\n",
    "        print(str(i)+ '          '+ str(money))"
   ]
  },
  {
   "cell_type": "code",
   "execution_count": 89,
   "metadata": {},
   "outputs": [
    {
     "name": "stdout",
     "output_type": "stream",
     "text": [
      "输入投资额：1000\n",
      "输入百分比格式的年利率：9\n",
      "Years      Future Value\n",
      "1          1090.0\n",
      "2          1278.1\n",
      "3          1581.2289999999998\n",
      "4          2026.6686099999997\n",
      "5          2654.5083949\n",
      "6          3521.253935341\n",
      "7          4704.91232996269\n",
      "8          6312.012834281022\n",
      "9          8487.194493684647\n",
      "10          11426.22365751989\n",
      "11          15393.612950531922\n",
      "12          20746.427409091826\n",
      "13          27966.420334469996\n",
      "14          37703.39108995047\n",
      "15          50833.66704352648\n",
      "16          68538.97303101988\n",
      "17          92412.78659130506\n",
      "18          124603.7509448077\n",
      "19          168009.05288334304\n",
      "20          226535.16958137925\n",
      "21          305449.4515417396\n",
      "22          411854.1841408565\n",
      "23          555325.7933126504\n",
      "24          748776.723882583\n",
      "25          1009617.5596019479\n",
      "26          1361323.9756854882\n",
      "27          1835549.5495807226\n",
      "28          2474974.5829382217\n",
      "29          3337147.328760161\n",
      "30          4499663.334170515\n"
     ]
    }
   ],
   "source": [
    "homework4()"
   ]
  },
  {
   "cell_type": "markdown",
   "metadata": {},
   "source": [
    "- 5\n",
    "![](../Photo/78.png)"
   ]
  },
  {
   "cell_type": "code",
   "execution_count": null,
   "metadata": {},
   "outputs": [],
   "source": [
    "def homework5(ch1,ch2,number):\n",
    "    ch1,ch2,number = input('输入两个字符，和每行打印的个数：')\n",
    "    "
   ]
  },
  {
   "cell_type": "markdown",
   "metadata": {},
   "source": [
    "- 6\n",
    "![](../Photo/79.png)"
   ]
  },
  {
   "cell_type": "code",
   "execution_count": 109,
   "metadata": {},
   "outputs": [],
   "source": [
    "def homework6():\n",
    "    year1 = int(input('输入启示年份：'))\n",
    "    year2 = int(input('输入末尾年份：'))\n",
    "    sum1 = 0\n",
    "    \n",
    "    for i in range(0,(year2 - year1)):\n",
    "        if (year1 % 100 == 0 and year1 % 400 == 0) or (year1 % 100 != 0 and year1 % 4 == 0) :\n",
    "            sum1 += 366\n",
    "            year1 += 1\n",
    "        else :\n",
    "            year1 += 1\n",
    "            sum1 += 365\n",
    "    print(sum1)"
   ]
  },
  {
   "cell_type": "code",
   "execution_count": 110,
   "metadata": {},
   "outputs": [
    {
     "name": "stdout",
     "output_type": "stream",
     "text": [
      "输入启示年份：2010\n",
      "输入末尾年份：2020\n",
      "3652\n"
     ]
    }
   ],
   "source": [
    "homework6()"
   ]
  },
  {
   "cell_type": "markdown",
   "metadata": {},
   "source": [
    "- 7\n",
    "![](../Photo/80.png)"
   ]
  },
  {
   "cell_type": "markdown",
   "metadata": {},
   "source": [
    "- 8\n",
    "![](../Photo/81.png)"
   ]
  },
  {
   "cell_type": "markdown",
   "metadata": {},
   "source": [
    "- 9\n",
    "![](../Photo/82.png)\n",
    "![](../Photo/83.png)"
   ]
  },
  {
   "cell_type": "markdown",
   "metadata": {},
   "source": [
    "- 10\n",
    "![](../Photo/84.png)"
   ]
  },
  {
   "cell_type": "markdown",
   "metadata": {},
   "source": [
    "- 11 \n",
    "### 去网上寻找如何用Python代码发送邮件"
   ]
  }
 ],
 "metadata": {
  "kernelspec": {
   "display_name": "Python 3",
   "language": "python",
   "name": "python3"
  },
  "language_info": {
   "codemirror_mode": {
    "name": "ipython",
    "version": 3
   },
   "file_extension": ".py",
   "mimetype": "text/x-python",
   "name": "python",
   "nbconvert_exporter": "python",
   "pygments_lexer": "ipython3",
   "version": "3.6.4"
  }
 },
 "nbformat": 4,
 "nbformat_minor": 2
}
